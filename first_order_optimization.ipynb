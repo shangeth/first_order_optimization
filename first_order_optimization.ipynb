{
 "cells": [
  {
   "cell_type": "markdown",
   "metadata": {},
   "source": [
    "# First Order Optimization"
   ]
  },
  {
   "cell_type": "markdown",
   "metadata": {},
   "source": [
    "## Algorithm to Compute the slope of best fit for a given data"
   ]
  },
  {
   "cell_type": "code",
   "execution_count": 59,
   "metadata": {},
   "outputs": [],
   "source": [
    "# Numpy for statistical computations\n",
    "from numpy import *"
   ]
  },
  {
   "cell_type": "markdown",
   "metadata": {},
   "source": [
    "### This is an image for understading (not by the code)\n",
    "![alt text](http://www.sthda.com/english/sthda-upload/images/machine-learning-essentials/linear-regression.png)"
   ]
  },
  {
   "cell_type": "code",
   "execution_count": 60,
   "metadata": {},
   "outputs": [],
   "source": [
    "# We take any random line and try to find the error for the data with that line\n",
    "\n",
    "# this function computes the error of given data with any line given parameters of line b,m  ( y = m * X + b)\n",
    "\n",
    "def compute_error_for_line_given_points(b, m, points):\n",
    "    totalError = 0\n",
    "    for i in range(0, len(points)):\n",
    "        x = points[i, 0]\n",
    "        y = points[i, 1]\n",
    "        totalError += (y - (m * x + b)) ** 2\n",
    "    return totalError / float(len(points))"
   ]
  },
  {
   "cell_type": "code",
   "execution_count": 61,
   "metadata": {},
   "outputs": [],
   "source": [
    "# this is the actual optimizing algorithm which tries to reduce the error from compute_error_for_line_given_points function.\n",
    "#it reduces the error and make the line best fit.\n",
    "\n",
    "# we iterate and try to find the error , the line which gives the least error is the best fit line\n",
    "\n",
    "def step_gradient(b_current, m_current, points, learningRate):\n",
    "    b_gradient = 0\n",
    "    m_gradient = 0\n",
    "    N = float(len(points))\n",
    "    for i in range(0, len(points)):\n",
    "        x = points[i, 0]\n",
    "        y = points[i, 1]\n",
    "        # the algorithm is actually the partial derivative of the loss function with respect to parameters = 0\n",
    "        b_gradient += -(2/N) * (y - ((m_current * x) + b_current))\n",
    "        m_gradient += -(2/N) * x * (y - ((m_current * x) + b_current))\n",
    "    new_b = b_current - (learningRate * b_gradient)\n",
    "    new_m = m_current - (learningRate * m_gradient)\n",
    "    return [new_b, new_m]"
   ]
  },
  {
   "cell_type": "markdown",
   "metadata": {},
   "source": [
    "### This is an image for understading (not by the code)\n",
    "![alt text](https://raw.githubusercontent.com/llSourcell/GradientDescentExample/master/gradient_descent_example.gif)"
   ]
  },
  {
   "cell_type": "code",
   "execution_count": 62,
   "metadata": {},
   "outputs": [],
   "source": [
    "# This function simply calls the optimization algorithm many iterations to reduce the error\n",
    "def gradient_descent_runner(points, starting_b, starting_m, learning_rate, num_iterations):\n",
    "    b = starting_b\n",
    "    m = starting_m\n",
    "    for i in range(num_iterations):\n",
    "        b, m = step_gradient(b, m, array(points), learning_rate)\n",
    "    return [b, m]"
   ]
  },
  {
   "cell_type": "code",
   "execution_count": 69,
   "metadata": {},
   "outputs": [
    {
     "name": "stdout",
     "output_type": "stream",
     "text": [
      "Starting gradient descent at b = 0, m = 0, error = 6502955270.733334\n",
      "After 100000 iterations b = 25445.11177415182, m = 9501.468790540643, error = 31296995.201286424\n"
     ]
    }
   ],
   "source": [
    "points = genfromtxt(\"Salary_Data.csv\", delimiter=\",\")\n",
    "learning_rate = 0.0001\n",
    "initial_b = 0 # initial y-intercept guess\n",
    "initial_m = 0 # initial slope guess\n",
    "num_iterations = 100000\n",
    "print (\"Starting gradient descent at b = {0}, m = {1}, error = {2}\".format(initial_b, initial_m, compute_error_for_line_given_points(initial_b, initial_m, points)))\n",
    "[b, m] = gradient_descent_runner(points, initial_b, initial_m, learning_rate, num_iterations)\n",
    "print (\"After {0} iterations b = {1}, m = {2}, error = {3}\".format(num_iterations, b, m, compute_error_for_line_given_points(b, m, points)))\n"
   ]
  },
  {
   "cell_type": "code",
   "execution_count": 64,
   "metadata": {},
   "outputs": [
    {
     "data": {
      "image/png": "[encoded data removed]",
      "text/plain": [
       "<Figure size 432x288 with 1 Axes>"
      ]
     },
     "metadata": {},
     "output_type": "display_data"
    }
   ],
   "source": [
    "import pandas as pd \n",
    "import matplotlib.pyplot as plt\n",
    "\n",
    "df = pd.read_csv('Salary_Data.csv')\n",
    "\n",
    "X = df.iloc[:,:-1].values # make X data into matrix/array\n",
    "# print(\"X=\\n\",X)\n",
    "\n",
    "y = df.iloc[:,-1].values # make y data into matrix/array\n",
    "# print(\"y=\\n\",y)\n",
    "\n",
    "plt.scatter(X, y, color='red')\n",
    "plt.plot(X, m*X+b)\n",
    "plt.legend(('Prediction Model(Best Fit line)','Training Data'), loc='lower right')\n",
    "plt.title('Salary vs Experience (Training Set)')\n",
    "plt.xlabel('Experience(in Years)')\n",
    "plt.ylabel('Salary')\n",
    "plt.show()"
   ]
  },
  {
   "cell_type": "code",
   "execution_count": 65,
   "metadata": {},
   "outputs": [
    {
     "name": "stdout",
     "output_type": "stream",
     "text": [
      "Predicted Salary for 13.5 years experience = 153714.9404464505\n"
     ]
    }
   ],
   "source": [
    "# by adjusting value of learning rate and number of iteration we can get the most optimistic model for our data.\n",
    "\n",
    "#predicting for the model\n",
    "\n",
    "toPredict = 13.5\n",
    "\n",
    "Predicted_Salary = toPredict * m + b\n",
    "print('Predicted Salary for {} years experience = {}'.format(toPredict,Predicted_Salary))"
   ]
  },
  {
   "cell_type": "code",
   "execution_count": null,
   "metadata": {},
   "outputs": [],
   "source": []
  }
 ],
 "metadata": {
  "kernelspec": {
   "display_name": "Python 3",
   "language": "python",
   "name": "python3"
  },
  "language_info": {
   "codemirror_mode": {
    "name": "ipython",
    "version": 3
   },
   "file_extension": ".py",
   "mimetype": "text/x-python",
   "name": "python",
   "nbconvert_exporter": "python",
   "pygments_lexer": "ipython3",
   "version": "3.6.5"
  }
 },
 "nbformat": 4,
 "nbformat_minor": 2
}
